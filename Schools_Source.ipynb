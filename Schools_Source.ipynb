{
 "cells": [
  {
   "cell_type": "markdown",
   "id": "0b0b6f4f-2efc-40ff-a14a-01190bfe5254",
   "metadata": {},
   "source": [
    "Importing libraries "
   ]
  },
  {
   "cell_type": "code",
   "execution_count": 2,
   "id": "d76abdca-d493-4386-94bf-aa5c24c522c6",
   "metadata": {},
   "outputs": [],
   "source": [
    "import pandas as pd "
   ]
  },
  {
   "cell_type": "markdown",
   "id": "01125580-1e7c-4c9b-8e8a-62abcf23c033",
   "metadata": {},
   "source": [
    "Importing datasets "
   ]
  },
  {
   "cell_type": "code",
   "execution_count": 24,
   "id": "1d9de609-aa55-4cad-84eb-1150c3cccbb5",
   "metadata": {},
   "outputs": [],
   "source": [
    "Schools_Scotland_21May2025 = pd.read_excel(\n",
    "    '/Users/ericmarshall/Desktop/Hackathon datasets/Raw data/School_Contacts_21_May_2025.xlsx',\n",
    "    header=None,\n",
    "    sheet_name=\"Open Schools\"\n",
    ")"
   ]
  },
  {
   "cell_type": "markdown",
   "id": "c7f2d790-b65e-48d9-a4b6-e4babf9946ef",
   "metadata": {},
   "source": [
    "Info on dataset"
   ]
  },
  {
   "cell_type": "code",
   "execution_count": 26,
   "id": "e2be92d3-187d-402a-afbf-7483b1794ea4",
   "metadata": {},
   "outputs": [
    {
     "name": "stdout",
     "output_type": "stream",
     "text": [
      "<class 'pandas.core.frame.DataFrame'>\n",
      "RangeIndex: 2445 entries, 0 to 2444\n",
      "Data columns (total 23 columns):\n",
      " #   Column  Non-Null Count  Dtype \n",
      "---  ------  --------------  ----- \n",
      " 0   0       2442 non-null   object\n",
      " 1   1       2440 non-null   object\n",
      " 2   2       2440 non-null   object\n",
      " 3   3       2441 non-null   object\n",
      " 4   4       2441 non-null   object\n",
      " 5   5       2042 non-null   object\n",
      " 6   6       1392 non-null   object\n",
      " 7   7       2440 non-null   object\n",
      " 8   8       2439 non-null   object\n",
      " 9   9       2440 non-null   object\n",
      " 10  10      2440 non-null   object\n",
      " 11  11      2435 non-null   object\n",
      " 12  12      2441 non-null   object\n",
      " 13  13      2440 non-null   object\n",
      " 14  14      2440 non-null   object\n",
      " 15  15      2440 non-null   object\n",
      " 16  16      2201 non-null   object\n",
      " 17  17      2008 non-null   object\n",
      " 18  18      1980 non-null   object\n",
      " 19  19      362 non-null    object\n",
      " 20  20      2424 non-null   object\n",
      " 21  21      2440 non-null   object\n",
      " 22  22      2440 non-null   object\n",
      "dtypes: object(23)\n",
      "memory usage: 439.5+ KB\n"
     ]
    },
    {
     "data": {
      "text/html": [
       "<div>\n",
       "<style scoped>\n",
       "    .dataframe tbody tr th:only-of-type {\n",
       "        vertical-align: middle;\n",
       "    }\n",
       "\n",
       "    .dataframe tbody tr th {\n",
       "        vertical-align: top;\n",
       "    }\n",
       "\n",
       "    .dataframe thead th {\n",
       "        text-align: right;\n",
       "    }\n",
       "</style>\n",
       "<table border=\"1\" class=\"dataframe\">\n",
       "  <thead>\n",
       "    <tr style=\"text-align: right;\">\n",
       "      <th></th>\n",
       "      <th>0</th>\n",
       "      <th>1</th>\n",
       "      <th>2</th>\n",
       "      <th>3</th>\n",
       "      <th>4</th>\n",
       "      <th>5</th>\n",
       "      <th>6</th>\n",
       "      <th>7</th>\n",
       "      <th>8</th>\n",
       "      <th>9</th>\n",
       "      <th>...</th>\n",
       "      <th>13</th>\n",
       "      <th>14</th>\n",
       "      <th>15</th>\n",
       "      <th>16</th>\n",
       "      <th>17</th>\n",
       "      <th>18</th>\n",
       "      <th>19</th>\n",
       "      <th>20</th>\n",
       "      <th>21</th>\n",
       "      <th>22</th>\n",
       "    </tr>\n",
       "  </thead>\n",
       "  <tbody>\n",
       "    <tr>\n",
       "      <th>count</th>\n",
       "      <td>2442</td>\n",
       "      <td>2440</td>\n",
       "      <td>2440</td>\n",
       "      <td>2441</td>\n",
       "      <td>2441</td>\n",
       "      <td>2042</td>\n",
       "      <td>1392</td>\n",
       "      <td>2440</td>\n",
       "      <td>2439</td>\n",
       "      <td>2440</td>\n",
       "      <td>...</td>\n",
       "      <td>2440</td>\n",
       "      <td>2440</td>\n",
       "      <td>2440</td>\n",
       "      <td>2201</td>\n",
       "      <td>2008</td>\n",
       "      <td>1980</td>\n",
       "      <td>362</td>\n",
       "      <td>2424</td>\n",
       "      <td>2440</td>\n",
       "      <td>2440</td>\n",
       "    </tr>\n",
       "    <tr>\n",
       "      <th>unique</th>\n",
       "      <td>2442</td>\n",
       "      <td>34</td>\n",
       "      <td>3</td>\n",
       "      <td>2270</td>\n",
       "      <td>2082</td>\n",
       "      <td>898</td>\n",
       "      <td>221</td>\n",
       "      <td>2285</td>\n",
       "      <td>2386</td>\n",
       "      <td>2423</td>\n",
       "      <td>...</td>\n",
       "      <td>3</td>\n",
       "      <td>3</td>\n",
       "      <td>3</td>\n",
       "      <td>3</td>\n",
       "      <td>5</td>\n",
       "      <td>3</td>\n",
       "      <td>3</td>\n",
       "      <td>3</td>\n",
       "      <td>3</td>\n",
       "      <td>6</td>\n",
       "    </tr>\n",
       "    <tr>\n",
       "      <th>top</th>\n",
       "      <td>Publicly funded schools open 30 April 2025</td>\n",
       "      <td>Highland</td>\n",
       "      <td>Local Authority</td>\n",
       "      <td>St Joseph's Primary School</td>\n",
       "      <td>Main Street</td>\n",
       "      <td>Edinburgh</td>\n",
       "      <td>GLASGOW</td>\n",
       "      <td>AB22 8UR</td>\n",
       "      <td>126087649</td>\n",
       "      <td>headteacher@northkelvinside-pri.glasgow.sch.uk</td>\n",
       "      <td>...</td>\n",
       "      <td>Yes</td>\n",
       "      <td>No</td>\n",
       "      <td>No</td>\n",
       "      <td>No</td>\n",
       "      <td>English medium only</td>\n",
       "      <td>Yes</td>\n",
       "      <td>Yes</td>\n",
       "      <td>10</td>\n",
       "      <td>No</td>\n",
       "      <td>Non-denominational</td>\n",
       "    </tr>\n",
       "    <tr>\n",
       "      <th>freq</th>\n",
       "      <td>1</td>\n",
       "      <td>196</td>\n",
       "      <td>2431</td>\n",
       "      <td>7</td>\n",
       "      <td>38</td>\n",
       "      <td>102</td>\n",
       "      <td>242</td>\n",
       "      <td>4</td>\n",
       "      <td>3</td>\n",
       "      <td>2</td>\n",
       "      <td>...</td>\n",
       "      <td>1981</td>\n",
       "      <td>2076</td>\n",
       "      <td>2316</td>\n",
       "      <td>2053</td>\n",
       "      <td>1915</td>\n",
       "      <td>1972</td>\n",
       "      <td>348</td>\n",
       "      <td>1934</td>\n",
       "      <td>2020</td>\n",
       "      <td>2071</td>\n",
       "    </tr>\n",
       "  </tbody>\n",
       "</table>\n",
       "<p>4 rows × 23 columns</p>\n",
       "</div>"
      ],
      "text/plain": [
       "                                                0         1                2   \\\n",
       "count                                         2442      2440             2440   \n",
       "unique                                        2442        34                3   \n",
       "top     Publicly funded schools open 30 April 2025  Highland  Local Authority   \n",
       "freq                                             1       196             2431   \n",
       "\n",
       "                                3            4          5        6         7   \\\n",
       "count                         2441         2441       2042     1392      2440   \n",
       "unique                        2270         2082        898      221      2285   \n",
       "top     St Joseph's Primary School  Main Street  Edinburgh  GLASGOW  AB22 8UR   \n",
       "freq                             7           38        102      242         4   \n",
       "\n",
       "               8                                               9   ...    13  \\\n",
       "count        2439                                            2440  ...  2440   \n",
       "unique       2386                                            2423  ...     3   \n",
       "top     126087649  headteacher@northkelvinside-pri.glasgow.sch.uk  ...   Yes   \n",
       "freq            3                                               2  ...  1981   \n",
       "\n",
       "          14    15    16                   17    18   19    20    21  \\\n",
       "count   2440  2440  2201                 2008  1980  362  2424  2440   \n",
       "unique     3     3     3                    5     3    3     3     3   \n",
       "top       No    No    No  English medium only   Yes  Yes    10    No   \n",
       "freq    2076  2316  2053                 1915  1972  348  1934  2020   \n",
       "\n",
       "                        22  \n",
       "count                 2440  \n",
       "unique                   6  \n",
       "top     Non-denominational  \n",
       "freq                  2071  \n",
       "\n",
       "[4 rows x 23 columns]"
      ]
     },
     "execution_count": 26,
     "metadata": {},
     "output_type": "execute_result"
    }
   ],
   "source": [
    "Schools_Scotland_21May2025.head()       \n",
    "Schools_Scotland_21May2025.info()      \n",
    "Schools_Scotland_21May2025.describe() "
   ]
  },
  {
   "cell_type": "code",
   "execution_count": 30,
   "id": "72033a08-a3e4-4dbb-965b-2ce9f48315da",
   "metadata": {},
   "outputs": [
    {
     "name": "stdout",
     "output_type": "stream",
     "text": [
      "Index([ 0,  1,  2,  3,  4,  5,  6,  7,  8,  9, 10, 11, 12, 13, 14, 15, 16, 17,\n",
      "       18, 19, 20, 21, 22],\n",
      "      dtype='int64')\n"
     ]
    }
   ],
   "source": [
    "print(Schools_Scotland_21May2025.columns)"
   ]
  },
  {
   "cell_type": "markdown",
   "id": "8e584236-483c-4148-938d-ba68da1f3949",
   "metadata": {},
   "source": [
    "Keeping desired columns"
   ]
  },
  {
   "cell_type": "code",
   "execution_count": 41,
   "id": "e86cd7b3-c9ea-4abe-9a96-fd1da70042d3",
   "metadata": {},
   "outputs": [],
   "source": [
    "Schools_Scotland = Schools_Scotland_21May2025[\n",
    "    [\n",
    "        1,\n",
    "        2,\n",
    "        3,\n",
    "        4,\n",
    "        5,\n",
    "        6,\n",
    "        7,\n",
    "        8,\n",
    "        9,\n",
    "    ]\n",
    "]\n"
   ]
  },
  {
   "cell_type": "code",
   "execution_count": 47,
   "id": "335db21a-cedb-4ddf-a466-e7a46b9d50f5",
   "metadata": {},
   "outputs": [
    {
     "name": "stdout",
     "output_type": "stream",
     "text": [
      "<class 'pandas.core.frame.DataFrame'>\n",
      "RangeIndex: 2445 entries, 0 to 2444\n",
      "Data columns (total 9 columns):\n",
      " #   Column  Non-Null Count  Dtype \n",
      "---  ------  --------------  ----- \n",
      " 0   1       2440 non-null   object\n",
      " 1   2       2440 non-null   object\n",
      " 2   3       2441 non-null   object\n",
      " 3   4       2441 non-null   object\n",
      " 4   5       2042 non-null   object\n",
      " 5   6       1392 non-null   object\n",
      " 6   7       2440 non-null   object\n",
      " 7   8       2439 non-null   object\n",
      " 8   9       2440 non-null   object\n",
      "dtypes: object(9)\n",
      "memory usage: 172.0+ KB\n"
     ]
    }
   ],
   "source": [
    "Schools_Scotland.info()"
   ]
  },
  {
   "cell_type": "markdown",
   "id": "2b7c8c07-2863-428c-b960-8f84d754d394",
   "metadata": {},
   "source": [
    "Saving to CSV"
   ]
  },
  {
   "cell_type": "code",
   "execution_count": 49,
   "id": "60b27ba9-3af5-47bb-9c3a-72e83ab22e32",
   "metadata": {},
   "outputs": [],
   "source": [
    "Schools_Scotland.to_csv('/Users/ericmarshall/Desktop/Hackathon datasets/Completed datasets/Schools_Scotland.csv', index=False)"
   ]
  },
  {
   "cell_type": "code",
   "execution_count": null,
   "id": "a61e211f-1de1-4358-8407-5e7b4a32b67b",
   "metadata": {},
   "outputs": [],
   "source": []
  }
 ],
 "metadata": {
  "kernelspec": {
   "display_name": "Python [conda env:base] *",
   "language": "python",
   "name": "conda-base-py"
  },
  "language_info": {
   "codemirror_mode": {
    "name": "ipython",
    "version": 3
   },
   "file_extension": ".py",
   "mimetype": "text/x-python",
   "name": "python",
   "nbconvert_exporter": "python",
   "pygments_lexer": "ipython3",
   "version": "3.12.7"
  }
 },
 "nbformat": 4,
 "nbformat_minor": 5
}
